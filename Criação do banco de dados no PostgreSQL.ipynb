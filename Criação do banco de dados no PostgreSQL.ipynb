{
 "cells": [
  {
   "cell_type": "markdown",
   "id": "41b5f79d",
   "metadata": {},
   "source": [
    "# Criação do banco de dados no PostgreSQL"
   ]
  },
  {
   "cell_type": "markdown",
   "id": "51c90fc2",
   "metadata": {},
   "source": [
    "O banco de dados utilizado está disponível em: https://www.kaggle.com/datasets/olistbr/brazilian-ecommerce<br>\n",
    "Para utilização deste script, os arquivos devem ser salvos na subpasta database."
   ]
  },
  {
   "cell_type": "code",
   "execution_count": 43,
   "id": "544cdffa",
   "metadata": {},
   "outputs": [],
   "source": [
    "from sqlalchemy import create_engine\n",
    "from sqlalchemy_utils import database_exists, create_database\n",
    "import pandas as pd\n",
    "import os"
   ]
  },
  {
   "cell_type": "code",
   "execution_count": 104,
   "id": "b301734a",
   "metadata": {},
   "outputs": [],
   "source": [
    "# Definição de função para conectar ao banco de dados.\n",
    "# A conexão está dentro de uma transaction, por isso é necessário encerrar a transaction aberta com commit.\n",
    "def connect_to_database(sgbd, user, password, host, port, database):\n",
    "    try:\n",
    "        engine = create_engine(f\"{sgbd}://{user}:{password}@{host}:{port}/{database}\")\n",
    "        conn = engine.connect()\n",
    "        conn.execute(\"COMMIT\")\n",
    "        return conn, engine\n",
    "    except Exception as error:\n",
    "        print(error)"
   ]
  },
  {
   "cell_type": "code",
   "execution_count": 105,
   "id": "24e79a0f",
   "metadata": {},
   "outputs": [],
   "source": [
    "# Para criar um novo database, é necessário primeiramente conectar a um database existente para depois criar o novo.\n",
    "# O database default postgres foi escolhido para conexão inicial.\n",
    "conn, engine = connect_to_database('postgresql', 'postgres', 'postgres', 'localhost', '5433', 'postgres')"
   ]
  },
  {
   "cell_type": "code",
   "execution_count": 106,
   "id": "aca49d16",
   "metadata": {},
   "outputs": [
    {
     "name": "stdout",
     "output_type": "stream",
     "text": [
      "(psycopg2.errors.DuplicateDatabase) ERRO:  o banco de dados \"olist\" já existe\n",
      "\n",
      "[SQL: CREATE DATABASE olist]\n",
      "(Background on this error at: https://sqlalche.me/e/14/f405)\n"
     ]
    }
   ],
   "source": [
    "# Criação do novo database e encerramento da conexão com o database postgres.\n",
    "try:\n",
    "    conn.execute(\"CREATE DATABASE olist\")\n",
    "    conn.execute(\"COMMIT\")\n",
    "except Exception as error:\n",
    "    print(error)"
   ]
  },
  {
   "cell_type": "code",
   "execution_count": 107,
   "id": "d7815b51",
   "metadata": {},
   "outputs": [],
   "source": [
    "conn.close()"
   ]
  },
  {
   "cell_type": "code",
   "execution_count": 108,
   "id": "fb52bf4e",
   "metadata": {},
   "outputs": [],
   "source": [
    "# Estabelecimento de conexão com o novo database olist.\n",
    "conn, engine = connect_to_database('postgresql', 'postgres', 'postgres', 'localhost', '5433', 'olist')"
   ]
  },
  {
   "cell_type": "code",
   "execution_count": 113,
   "id": "e1fc78f2",
   "metadata": {},
   "outputs": [],
   "source": [
    "# Função para leitura de arquivo .csv em dataframe pandas e gravação em tabela SQL.\n",
    "def csv_to_sql(csv_file, sql_table, engine, conn):\n",
    "    df = pd.read_csv(csv_file)\n",
    "    conn.execute(f\"DROP TABLE IF EXISTS {sql_table}\")\n",
    "    try:\n",
    "        number_of_rows = df.to_sql(name=sql_table, con=engine, index=False)\n",
    "        print(f'Tabela {sql_table} criada com {number_of_rows} linhas.')\n",
    "    except Exception as error:\n",
    "        print(error)"
   ]
  },
  {
   "cell_type": "code",
   "execution_count": 114,
   "id": "d568ffde",
   "metadata": {},
   "outputs": [
    {
     "data": {
      "text/plain": [
       "['olist_customers_dataset.csv',\n",
       " 'olist_geolocation_dataset.csv',\n",
       " 'olist_orders_dataset.csv',\n",
       " 'olist_order_items_dataset.csv',\n",
       " 'olist_order_payments_dataset.csv',\n",
       " 'olist_order_reviews_dataset.csv',\n",
       " 'olist_products_dataset.csv',\n",
       " 'olist_sellers_dataset.csv']"
      ]
     },
     "execution_count": 114,
     "metadata": {},
     "output_type": "execute_result"
    }
   ],
   "source": [
    "# Recupera o nomes dos arquivos .csv na pasta indicada.\n",
    "# Neste caso, todos os arquivos .csv estão gravados na subpasta database\n",
    "database_files = os.listdir(os.getcwd() + \"\\\\database\")\n",
    "database_files"
   ]
  },
  {
   "cell_type": "code",
   "execution_count": 116,
   "id": "86e52513",
   "metadata": {},
   "outputs": [
    {
     "name": "stdout",
     "output_type": "stream",
     "text": [
      "Tabela customers criada com 441 linhas.\n",
      "Tabela geolocation criada com 163 linhas.\n",
      "Tabela orders criada com 441 linhas.\n",
      "Tabela order_items criada com 650 linhas.\n",
      "Tabela order_payments criada com 886 linhas.\n",
      "Tabela order_reviews criada com 224 linhas.\n",
      "Tabela products criada com 951 linhas.\n",
      "Tabela sellers criada com 95 linhas.\n"
     ]
    }
   ],
   "source": [
    "# Executa a função para os arquivos .csv recuperados\n",
    "# Os nomes dos arquivos .csv seguem o padrão 'olist_<nome da tabela>_database.csv'\n",
    "# Assim, determinamos os nomes das tabelas na variável sql_table a partir dos nomes dos arquivos.\n",
    "for csv_file in database_files:\n",
    "    sql_table = csv_file[csv_file.index('_')+1:len(csv_file)-csv_file[::-1].index('_')-1]\n",
    "    csv_file = 'database/'+csv_file\n",
    "    csv_to_sql(csv_file, sql_table, engine, conn)"
   ]
  },
  {
   "cell_type": "code",
   "execution_count": 117,
   "id": "57c953e4",
   "metadata": {},
   "outputs": [],
   "source": [
    "# Encerra a conexão com o banco\n",
    "conn.close()"
   ]
  }
 ],
 "metadata": {
  "kernelspec": {
   "display_name": "Python 3 (ipykernel)",
   "language": "python",
   "name": "python3"
  },
  "language_info": {
   "codemirror_mode": {
    "name": "ipython",
    "version": 3
   },
   "file_extension": ".py",
   "mimetype": "text/x-python",
   "name": "python",
   "nbconvert_exporter": "python",
   "pygments_lexer": "ipython3",
   "version": "3.10.9"
  }
 },
 "nbformat": 4,
 "nbformat_minor": 5
}
